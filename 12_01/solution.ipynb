{
 "cells": [
  {
   "cell_type": "code",
   "execution_count": null,
   "id": "a7ee515c-9ed2-4843-9e62-e6d07cb97465",
   "metadata": {},
   "outputs": [],
   "source": [
    "import pandas as pd\n",
    "\n",
    "df = pd.read_csv(\"data.csv\")\n",
    "\n",
    "df[['col1', 'col2']] = df['data'].str.split(' ', n=1, expand=True)\n",
    "\n",
    "df['sorted_col1'] = df['col1'].sort_values().reset_index(drop=True).astype(int)\n",
    "df['sorted_col2'] = df['col2'].sort_values().reset_index(drop=True).astype(int)\n",
    "\n",
    "df['Diff'] = abs(df['sorted_col1'] - df['sorted_col2'])\n",
    "print(f\"Part 1 solution: {df['Diff'].sum()}\")\n",
    "\n",
    "##########################\n",
    "\n",
    "df['count'] = df['sorted_col1'].map(df['sorted_col2'].value_counts()).fillna(0)\n",
    "df['score'] = df['count'] * df['sorted_col1']\n",
    "print(f\"Part 2 solution: {int(df['score'].sum())}\")"
   ]
  },
  {
   "cell_type": "code",
   "execution_count": null,
   "id": "54b04d10-34b7-4371-80a9-7a47545b2c7b",
   "metadata": {},
   "outputs": [],
   "source": []
  }
 ],
 "metadata": {
  "kernelspec": {
   "display_name": "Python 3 (ipykernel)",
   "language": "python",
   "name": "python3"
  },
  "language_info": {
   "codemirror_mode": {
    "name": "ipython",
    "version": 3
   },
   "file_extension": ".py",
   "mimetype": "text/x-python",
   "name": "python",
   "nbconvert_exporter": "python",
   "pygments_lexer": "ipython3",
   "version": "3.11.7"
  }
 },
 "nbformat": 4,
 "nbformat_minor": 5
}
