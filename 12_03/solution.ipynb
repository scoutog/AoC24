{
 "cells": [
  {
   "cell_type": "code",
   "execution_count": 1,
   "id": "c07053f3-4740-4f1f-b133-ad629b17b905",
   "metadata": {},
   "outputs": [
    {
     "name": "stdout",
     "output_type": "stream",
     "text": [
      "Part 1 Solution: 189527826\n"
     ]
    }
   ],
   "source": [
    "import re\n",
    "\n",
    "with open('data.txt', 'r') as file:\n",
    "    data = file.read().replace('\\n', '')\n",
    "\n",
    "pattern = r\"mul\\(\\d+,\\d+\\)\"\n",
    "matches = re.findall(pattern, data)\n",
    "\n",
    "product = 0\n",
    "for match in matches:\n",
    "    match = re.sub('[^0-9,]+', '', match)\n",
    "    match = match.split(',')\n",
    "    match_prod = int(match[0]) * int(match[1])\n",
    "    product += match_prod\n",
    "\n",
    "print(f\"Part 1 Solution: {product}\")"
   ]
  },
  {
   "cell_type": "code",
   "execution_count": 2,
   "id": "b8531e9b-7290-4cf4-857b-69580f348a30",
   "metadata": {},
   "outputs": [],
   "source": [
    "with open('data.txt', 'r') as file:\n",
    "    data = file.read().replace('\\n', '')\n",
    "\n",
    "do_pattern = r\"do\\(\\)\"\n",
    "do_matches = re.finditer(do_pattern, data)\n",
    "do_results = [(match.group(), match.start()) for match in do_matches]\n",
    "\n",
    "dont_pattern = r\"don\\'t\\(\\)\"\n",
    "dont_matches = re.finditer(dont_pattern, data)\n",
    "dont_results = [(match.group(), match.start()) for match in dont_matches]\n",
    "\n",
    "do_ls = []\n",
    "for match, start_index in do_results:\n",
    "    do_ls.append(start_index)\n",
    "\n",
    "dont_ls = []\n",
    "for match, start_index in dont_results:\n",
    "    dont_ls.append(start_index)"
   ]
  },
  {
   "cell_type": "code",
   "execution_count": 3,
   "id": "90078326-3379-4a63-aefc-e566a798c01b",
   "metadata": {},
   "outputs": [],
   "source": [
    "go = []\n",
    "nogo = []\n",
    "switch = \"do\"\n",
    "for i in range(len(data)):\n",
    "    if i in dont_ls:\n",
    "        switch = \"dont\"\n",
    "        nogo.append(i)\n",
    "        \n",
    "    elif i in do_ls:\n",
    "        switch = \"do\"\n",
    "        go.append(i)\n",
    "\n",
    "    elif switch == 'do':\n",
    "        go.append(i)\n",
    "\n",
    "    else:\n",
    "        nogo.append(i)"
   ]
  },
  {
   "cell_type": "code",
   "execution_count": 4,
   "id": "4ab4941b-f4bc-401e-95e9-8b3e55bc2168",
   "metadata": {},
   "outputs": [
    {
     "name": "stdout",
     "output_type": "stream",
     "text": [
      "Part 2 Solution: 63013756\n"
     ]
    }
   ],
   "source": [
    "mul_matches = re.finditer(pattern, data)\n",
    "mul_results = [(match.group(), match.start()) for match in mul_matches]\n",
    "\n",
    "product = 0\n",
    "for match, start_index in mul_results:\n",
    "    \n",
    "    if start_index in go:\n",
    "        match = re.sub('[^0-9,]+', '', match)\n",
    "        match = match.split(',')\n",
    "        match_prod = int(match[0]) * int(match[1])\n",
    "        product += match_prod\n",
    "\n",
    "print(f\"Part 2 Solution: {product}\")"
   ]
  }
 ],
 "metadata": {
  "kernelspec": {
   "display_name": "Python 3 (ipykernel)",
   "language": "python",
   "name": "python3"
  },
  "language_info": {
   "codemirror_mode": {
    "name": "ipython",
    "version": 3
   },
   "file_extension": ".py",
   "mimetype": "text/x-python",
   "name": "python",
   "nbconvert_exporter": "python",
   "pygments_lexer": "ipython3",
   "version": "3.11.7"
  }
 },
 "nbformat": 4,
 "nbformat_minor": 5
}
