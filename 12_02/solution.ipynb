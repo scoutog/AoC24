{
 "cells": [
  {
   "cell_type": "code",
   "execution_count": 78,
   "id": "5cabae1c-7514-4c11-a31d-9bf77ab15862",
   "metadata": {},
   "outputs": [],
   "source": [
    "import pandas as pd\n",
    "\n",
    "df = pd.read_csv(\"data.csv\")\n",
    "df['data'] = df['data'].str.strip()"
   ]
  },
  {
   "cell_type": "code",
   "execution_count": 79,
   "id": "52043e1e-0503-43ea-9073-dda42f536940",
   "metadata": {},
   "outputs": [],
   "source": [
    "x = df.loc[0,'data']\n",
    "x = [int(num) for num in x.split()]"
   ]
  },
  {
   "cell_type": "code",
   "execution_count": 80,
   "id": "b576a31a-d70e-4665-bdc4-eb9205ccfc67",
   "metadata": {},
   "outputs": [
    {
     "name": "stdout",
     "output_type": "stream",
     "text": [
      "3\n"
     ]
    }
   ],
   "source": [
    "difference_list = [x[i + 1] - x[i] for i in range(len(x) - 1)]\n",
    "difference_list.append(0)\n",
    "difference_list.append(0)\n",
    "difference_list.append(0)\n",
    "\n",
    "zero_count = difference_list.count(0)\n",
    "print(zero_count)"
   ]
  },
  {
   "cell_type": "code",
   "execution_count": 81,
   "id": "a0ca4e88-6713-4a1d-b37a-7d38ed2efc0f",
   "metadata": {},
   "outputs": [
    {
     "data": {
      "text/plain": [
       "1"
      ]
     },
     "execution_count": 81,
     "metadata": {},
     "output_type": "execute_result"
    }
   ],
   "source": [
    "difference_list.append(-5)\n",
    "difference_list.append(5)\n",
    "\n",
    "sum(1 for x in difference_list if x > 3)"
   ]
  },
  {
   "cell_type": "code",
   "execution_count": 82,
   "id": "8e27704e-61ef-4d65-8495-fb3e8fd629c0",
   "metadata": {},
   "outputs": [
    {
     "name": "stdout",
     "output_type": "stream",
     "text": [
      "479\n"
     ]
    }
   ],
   "source": [
    "df['is_success'] = 0\n",
    "\n",
    "for index, row in df.iterrows():\n",
    "    x = df.loc[index,'data']\n",
    "    x = [int(num) for num in x.split()]\n",
    "    \n",
    "    difference_list = [x[i + 1] - x[i] for i in range(len(x) - 1)]\n",
    "\n",
    "    count_0 = difference_list.count(0)\n",
    "    count_over4 = sum(1 for x in difference_list if x > 3)\n",
    "    count_under4 = sum(1 for x in difference_list if x < 3)\n",
    "\n",
    "    if (all(i < 0 for i in difference_list)) & (max(abs(j) for j in difference_list) <= 3):\n",
    "        df.at[index, 'is_success'] = 1\n",
    "    elif (all(i > 0 for i in difference_list)) & (max(abs(j) for j in difference_list) <= 3):\n",
    "        df.at[index, 'is_success'] = 1\n",
    "    else:\n",
    "        pass\n",
    "\n",
    "print(df['is_success'].sum())"
   ]
  },
  {
   "cell_type": "code",
   "execution_count": null,
   "id": "3119c4ea-16ff-4b08-94c7-ed7633cfa28f",
   "metadata": {},
   "outputs": [],
   "source": []
  }
 ],
 "metadata": {
  "kernelspec": {
   "display_name": "Python 3 (ipykernel)",
   "language": "python",
   "name": "python3"
  },
  "language_info": {
   "codemirror_mode": {
    "name": "ipython",
    "version": 3
   },
   "file_extension": ".py",
   "mimetype": "text/x-python",
   "name": "python",
   "nbconvert_exporter": "python",
   "pygments_lexer": "ipython3",
   "version": "3.11.7"
  }
 },
 "nbformat": 4,
 "nbformat_minor": 5
}
